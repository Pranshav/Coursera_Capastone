{
  "nbformat": 4,
  "nbformat_minor": 0,
  "metadata": {
    "colab": {
      "name": "Coursera1",
      "provenance": [],
      "include_colab_link": true
    },
    "kernelspec": {
      "name": "python3",
      "display_name": "Python 3"
    }
  },
  "cells": [
    {
      "cell_type": "markdown",
      "metadata": {
        "id": "view-in-github",
        "colab_type": "text"
      },
      "source": [
        "<a href=\"https://colab.research.google.com/github/Pranshav/Coursera_Capastone/blob/master/Coursera1.ipynb\" target=\"_parent\"><img src=\"https://colab.research.google.com/assets/colab-badge.svg\" alt=\"Open In Colab\"/></a>"
      ]
    },
    {
      "cell_type": "markdown",
      "metadata": {
        "id": "3nwl5kPgxvBm",
        "colab_type": "text"
      },
      "source": [
        "***Capstone1***\n",
        "\n",
        "This is the 1'st capstone notebook"
      ]
    },
    {
      "cell_type": "code",
      "metadata": {
        "id": "8hNSACWRyCCJ",
        "colab_type": "code",
        "colab": {}
      },
      "source": [
        "import pandas as pd\n",
        "import numpy as np\n",
        "print('Hello Capstone Project Course!')\n"
      ],
      "execution_count": 0,
      "outputs": []
    }
  ]
}